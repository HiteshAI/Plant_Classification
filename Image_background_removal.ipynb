{
  "nbformat": 4,
  "nbformat_minor": 0,
  "metadata": {
    "colab": {
      "name": "Image background removal.ipynb",
      "provenance": [],
      "private_outputs": true,
      "authorship_tag": "ABX9TyMWfuLToBi/ligjPnO+Kk/5",
      "include_colab_link": true
    },
    "kernelspec": {
      "name": "python3",
      "display_name": "Python 3"
    }
  },
  "cells": [
    {
      "cell_type": "markdown",
      "metadata": {
        "id": "view-in-github",
        "colab_type": "text"
      },
      "source": [
        "<a href=\"https://colab.research.google.com/github/HiteshAI/Projects/blob/master/Image_background_removal.ipynb\" target=\"_parent\"><img src=\"https://colab.research.google.com/assets/colab-badge.svg\" alt=\"Open In Colab\"/></a>"
      ]
    },
    {
      "cell_type": "code",
      "metadata": {
        "id": "xhaaMnkNotkk",
        "colab_type": "code",
        "colab": {}
      },
      "source": [
        "!git clone https://github.com/OPHoperHPO/image-background-remove-tool"
      ],
      "execution_count": 0,
      "outputs": []
    },
    {
      "cell_type": "code",
      "metadata": {
        "id": "gJ6Q61pipDyB",
        "colab_type": "code",
        "colab": {}
      },
      "source": [
        "%cd /content/image-background-remove-tool\n",
        "!pip3 install -r requirements.txt\n",
        "!bash setup.sh"
      ],
      "execution_count": 0,
      "outputs": []
    },
    {
      "cell_type": "markdown",
      "metadata": {
        "id": "MirKdMj73P_c",
        "colab_type": "text"
      },
      "source": [
        "# **Upload input files**"
      ]
    },
    {
      "cell_type": "code",
      "metadata": {
        "id": "2C1nSDyt2FRi",
        "colab_type": "code",
        "colab": {}
      },
      "source": [
        "%cd /content/image-background-remove-tool/docs/imgs/input\n",
        "from google.colab import files\n",
        "uploaded = files.upload()\n",
        "for fn in uploaded.keys():\n",
        "  print('User uploaded file \"{name}\" with length {length} bytes'.format(\n",
        "      name=fn, length=len(uploaded[fn])))"
      ],
      "execution_count": 0,
      "outputs": []
    },
    {
      "cell_type": "code",
      "metadata": {
        "id": "ah0xPPTnpMQY",
        "colab_type": "code",
        "colab": {}
      },
      "source": [
        "#Output is saved as output.png in output-path\n",
        "#model choice xception_model(slower) or mobile_net_model\n",
        "%cd /content/image-background-remove-tool\n",
        "!python3 main.py /content/image-background-remove-tool/docs/imgs/input/11.jpeg /content/image-background-remove-tool/docs/imgs/output/result.png  xception_model"
      ],
      "execution_count": 0,
      "outputs": []
    }
  ]
}